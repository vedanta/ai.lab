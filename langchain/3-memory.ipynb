{
 "cells": [
  {
   "cell_type": "code",
   "execution_count": null,
   "metadata": {},
   "outputs": [
    {
     "name": "stdout",
     "output_type": "stream",
     "text": [
      "OpenAI API Key loaded successfully.\n"
     ]
    }
   ],
   "source": [
    "\n",
    "# this is a simple script to load the OpenAI API key from a .env file\n",
    "# make sure to create a .env file with your OpenAI API key\n",
    "# also .env file is added to .gitignore so it won't be pushed to the git repository\n",
    "\n",
    "from dotenv import load_dotenv\n",
    "import os\n",
    "import openai # imports the openai library\n",
    "\n",
    "# Load environment variables from .env file\n",
    "load_dotenv()\n",
    "\n",
    "# Get the OpenAI API key\n",
    "openai_api_key = os.getenv('OPENAI_API_KEY')\n",
    "\n",
    "print(\"OpenAI API Key loaded successfully.\")"
   ]
  },
  {
   "cell_type": "code",
   "execution_count": 10,
   "metadata": {},
   "outputs": [
    {
     "name": "stdout",
     "output_type": "stream",
     "text": [
      "✅ API key is valid!\n"
     ]
    },
    {
     "data": {
      "text/plain": [
       "True"
      ]
     },
     "execution_count": 10,
     "metadata": {},
     "output_type": "execute_result"
    }
   ],
   "source": [
    "\n",
    "def test_api_key():\n",
    "    try:\n",
    "        # Make a simple API call to test the key\n",
    "        response = openai.chat.completions.create(\n",
    "            model=\"gpt-3.5-turbo\",\n",
    "            messages=[{\"role\": \"user\", \"content\": \"Hi\"}],\n",
    "            max_tokens=5\n",
    "        )\n",
    "        print(\"✅ API key is valid!\")\n",
    "        return True\n",
    "    except Exception as e:\n",
    "        print(\"❌ Error validating API key:\")\n",
    "        print(e)\n",
    "        return False\n",
    "\n",
    "test_api_key()"
   ]
  },
  {
   "cell_type": "code",
   "execution_count": 11,
   "metadata": {},
   "outputs": [
    {
     "name": "stdout",
     "output_type": "stream",
     "text": [
      "Response: The capital of Ethiopia is Addis Ababa.\n"
     ]
    }
   ],
   "source": [
    "openai.api_key = os.getenv('OPENAI_API_KEY')\n",
    "# Example of using the API\n",
    "def get_completion(prompt):\n",
    "    response = openai.chat.completions.create(\n",
    "        model=\"gpt-3.5-turbo\",\n",
    "        messages=[{\"role\": \"user\", \"content\": prompt}]\n",
    "    )\n",
    "    return response.choices[0].message.content\n",
    "\n",
    "# Test the function\n",
    "if openai.api_key:\n",
    "    result = get_completion(\"What is the capital of Ethopia?\")\n",
    "    print(\"Response:\", result)"
   ]
  },
  {
   "cell_type": "code",
   "execution_count": 12,
   "metadata": {},
   "outputs": [
    {
     "name": "stdout",
     "output_type": "stream",
     "text": [
      "LangChain and LangGraph are installed successfully!\n"
     ]
    }
   ],
   "source": [
    "# langchain check \n",
    "from langchain_openai import ChatOpenAI\n",
    "import langgraph\n",
    "\n",
    "print(\"LangChain and LangGraph are installed successfully!\")"
   ]
  }
 ],
 "metadata": {
  "kernelspec": {
   "display_name": "langchain-env",
   "language": "python",
   "name": "python3"
  },
  "language_info": {
   "codemirror_mode": {
    "name": "ipython",
    "version": 3
   },
   "file_extension": ".py",
   "mimetype": "text/x-python",
   "name": "python",
   "nbconvert_exporter": "python",
   "pygments_lexer": "ipython3",
   "version": "3.9.21"
  }
 },
 "nbformat": 4,
 "nbformat_minor": 2
}
