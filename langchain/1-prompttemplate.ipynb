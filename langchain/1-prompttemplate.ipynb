{
 "cells": [
  {
   "cell_type": "code",
   "execution_count": 7,
   "metadata": {},
   "outputs": [
    {
     "name": "stdout",
     "output_type": "stream",
     "text": [
      "OpenAI API Key loaded successfully.\n"
     ]
    }
   ],
   "source": [
    "from dotenv import load_dotenv\n",
    "import os\n",
    "# Load environment variables from .env file\n",
    "load_dotenv()\n",
    "# Get the OpenAI API key\n",
    "openai_api_key = os.getenv('OPENAI_API_KEY')\n",
    "print(\"OpenAI API Key loaded successfully.\")"
   ]
  },
  {
   "cell_type": "code",
   "execution_count": 8,
   "metadata": {},
   "outputs": [
    {
     "name": "stdout",
     "output_type": "stream",
     "text": [
      "tell me a fact about dinosaurs\n"
     ]
    }
   ],
   "source": [
    "from langchain.prompts import PromptTemplate\n",
    "template = PromptTemplate.from_template(\"tell me a fact about {topic}\")\n",
    "formatted_prompt = template.format(topic=\"dinosaurs\")\n",
    "print(formatted_prompt)"
   ]
  },
  {
   "cell_type": "code",
   "execution_count": 9,
   "metadata": {},
   "outputs": [
    {
     "name": "stdout",
     "output_type": "stream",
     "text": [
      "AI Response: The largest dinosaur ever discovered was the Argentinosaurus, which could grow up to 100 feet long and weigh up to 100 tons.\n"
     ]
    }
   ],
   "source": [
    "from langchain_openai import ChatOpenAI\n",
    "llm = ChatOpenAI(model=\"gpt-3.5-turbo\", temperature=0.5)\n",
    "response = llm.invoke(formatted_prompt)\n",
    "print(\"AI Response:\", response.content)"
   ]
  },
  {
   "cell_type": "markdown",
   "metadata": {},
   "source": [
    "### lets try advanced prompting, starting with CoT"
   ]
  },
  {
   "cell_type": "code",
   "execution_count": 14,
   "metadata": {},
   "outputs": [
    {
     "name": "stdout",
     "output_type": "stream",
     "text": [
      "Solve this problem step by step: If US debt is $28 trillion and the population is 331 million, what is the debt per person? Round to the nearest dollar. How does the GDP compare to the debt?\n",
      "AI Response: Step 1: Calculate the debt per person\n",
      "$28 trillion / 331 million = $84,557.77\n",
      "\n",
      "Rounded to the nearest dollar, the debt per person is $84,558.\n",
      "\n",
      "Step 2: Compare the GDP to the debt\n",
      "The GDP of the United States is approximately $21 trillion. \n",
      "\n",
      "To compare the GDP to the debt, we can calculate the debt as a percentage of the GDP:\n",
      "\n",
      "($28 trillion / $21 trillion) x 100 = 133.33%\n",
      "\n",
      "This means that the US debt is 133.33% of the GDP, indicating that the debt is higher than the GDP.\n"
     ]
    }
   ],
   "source": [
    "from langchain.prompts import PromptTemplate\n",
    "from langchain_openai import ChatOpenAI\n",
    "\n",
    "template = PromptTemplate.from_template(\"Solve this problem step by step: {problem}\")\n",
    "formatted_prompt = template.format(problem=\"If US debt is $28 trillion and the population is 331 million, what is the debt per person? Round to the nearest dollar. How does the GDP compare to the debt?\")\n",
    "print(formatted_prompt)\n",
    "\n",
    "llm = ChatOpenAI(model=\"gpt-3.5-turbo\", temperature=0.5)   \n",
    "response = llm.invoke(formatted_prompt)\n",
    "print(\"AI Response:\", response.content) "
   ]
  },
  {
   "cell_type": "markdown",
   "metadata": {},
   "source": [
    "### Next, few shot prompting"
   ]
  },
  {
   "cell_type": "code",
   "execution_count": 17,
   "metadata": {},
   "outputs": [
    {
     "name": "stdout",
     "output_type": "stream",
     "text": [
      " \n",
      "Here are some examples:\n",
      "Q: What is 2+2?  \n",
      "A: 4  \n",
      "\n",
      "Q: What is 5+3?  \n",
      "A: 8  \n",
      "\n",
      "Now answer this:\n",
      "Q: What is apple + pie ?  \n",
      "A:  \n",
      "\n",
      "This question cannot be answered as \"apple\" and \"pie\" are not numerical values.\n"
     ]
    }
   ],
   "source": [
    "few_shot_prompt = \"\"\" \n",
    "Here are some examples:\n",
    "Q: What is 2+2?  \n",
    "A: 4  \n",
    "\n",
    "Q: What is 5+3?  \n",
    "A: 8  \n",
    "\n",
    "Now answer this:\n",
    "Q: {question}  \n",
    "A:  \n",
    "\"\"\"\n",
    "\n",
    "formatted_prompt = few_shot_prompt.format(question=\"What is apple + pie ?\")\n",
    "print(formatted_prompt)\n",
    "\n",
    "llm = ChatOpenAI(model=\"gpt-3.5-turbo\", temperature=0.5)   \n",
    "response = llm.invoke(formatted_prompt)\n",
    "print(response.content) "
   ]
  }
 ],
 "metadata": {
  "kernelspec": {
   "display_name": "langchain-env",
   "language": "python",
   "name": "python3"
  },
  "language_info": {
   "codemirror_mode": {
    "name": "ipython",
    "version": 3
   },
   "file_extension": ".py",
   "mimetype": "text/x-python",
   "name": "python",
   "nbconvert_exporter": "python",
   "pygments_lexer": "ipython3",
   "version": "3.9.21"
  }
 },
 "nbformat": 4,
 "nbformat_minor": 2
}
